{
 "cells": [
  {
   "cell_type": "code",
   "execution_count": 12,
   "id": "2ab6c05c",
   "metadata": {},
   "outputs": [
    {
     "data": {
      "text/plain": [
       "'3.11.13 (main, Jun  4 2025, 08:57:29) [GCC 11.4.0]'"
      ]
     },
     "execution_count": 12,
     "metadata": {},
     "output_type": "execute_result"
    }
   ],
   "source": [
    "import sys\n",
    "\n",
    "sys.version"
   ]
  },
  {
   "cell_type": "code",
   "execution_count": 13,
   "id": "58c28da6",
   "metadata": {},
   "outputs": [
    {
     "data": {
      "text/plain": [
       "'6.29.5'"
      ]
     },
     "execution_count": 13,
     "metadata": {},
     "output_type": "execute_result"
    }
   ],
   "source": [
    "import ipykernel\n",
    "\n",
    "ipykernel.__version__"
   ]
  }
 ],
 "metadata": {
  "kernelspec": {
   "display_name": "phase0-env",
   "language": "python",
   "name": "python3"
  },
  "language_info": {
   "codemirror_mode": {
    "name": "ipython",
    "version": 3
   },
   "file_extension": ".py",
   "mimetype": "text/x-python",
   "name": "python",
   "nbconvert_exporter": "python",
   "pygments_lexer": "ipython3",
   "version": "3.11.13"
  }
 },
 "nbformat": 4,
 "nbformat_minor": 5
}
