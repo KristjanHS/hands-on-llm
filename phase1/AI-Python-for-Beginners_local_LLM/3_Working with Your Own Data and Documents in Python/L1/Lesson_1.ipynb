{
 "cells": [
  {
   "cell_type": "markdown",
   "metadata": {
    "id": "WMGxBP-yQoCl"
   },
   "source": [
    "# Lesson 1: Using files in Python\n",
    "\n",
    "Hit the play button on the video next to this Jupyter notebook to start the video and follow along as Andrew explains how to work through this lesson.\n",
    "\n",
    "So far, if you have taken the previous courses in this sequence, \n",
    "* You have worked with data that is created and assigned to variables within Jupyter notebooks.\n",
    "* You have created multi-line strings.\n",
    "* You have created lists and dictionaries.\n",
    "* You have automated tasks using `for` loops and `if` statements.\n",
    "\n",
    "\n",
    "In this lesson, you will read files using Python!\n",
    "\n",
    "Let's start by loading some functions you'll use in this notebook:"
   ]
  },
  {
   "cell_type": "code",
   "execution_count": 1,
   "metadata": {
    "height": 47
   },
   "outputs": [],
   "source": [
    "from helper_functions import get_llm_response\n",
    "from IPython.display import display, Markdown"
   ]
  },
  {
   "cell_type": "markdown",
   "metadata": {},
   "source": [
    "* Write a prompt to create a recipe using `get_llm_response`."
   ]
  },
  {
   "cell_type": "code",
   "execution_count": 2,
   "metadata": {
    "height": 251
   },
   "outputs": [
    {
     "name": "stdout",
     "output_type": "stream",
     "text": [
      " Title: One-Pot Chicken and Broccoli Rice\n",
      "\n",
      "Ingredients:\n",
      "1. 2 boneless, skinless chicken breasts\n",
      "2. 3 cups broccoli florets\n",
      "3. 2 cups uncooked rice\n",
      "4. 4 cups chicken broth\n",
      "5. Salt and pepper to taste\n",
      "6. 2 tablespoons olive oil\n",
      "7. 2 cloves garlic, minced\n",
      "8. Lemon zest (optional)\n",
      "\n",
      "Instructions:\n",
      "1. Heat the olive oil in a large pot over medium heat. Add the chicken breasts and cook until browned on both sides, about 5 minutes per side. Remove from pot and set aside.\n",
      "2. In the same pot, add garlic and sauté for 1 minute until fragrant.\n",
      "3. Stir in rice and cook for 1-2 minutes to toast it slightly.\n",
      "4. Pour in chicken broth, then add the broccoli florets, salt, and pepper.\n",
      "5. Nestle the cooked chicken breasts back into the pot, pushing them down so they are submerged in the liquid.\n",
      "6. Cover the pot and bring to a boil. Reduce heat to low and simmer for 20-25 minutes, or until rice is cooked and chicken is fully cooked through.\n",
      "7. Remove from heat and let stand for 5 minutes before serving. Garnish with lemon zest if desired. Enjoy!\n",
      " VER 2 WORKS!\n"
     ]
    }
   ],
   "source": [
    "# Write a list of ingredients\n",
    "ingredients = ['chicken', 'broccoli', 'rice']\n",
    "\n",
    "# Write the prompt\n",
    "prompt = f\"\"\"\n",
    "    Create a short recipe that uses the following ingredients:\n",
    "    {ingredients}\n",
    "\"\"\"\n",
    "\n",
    "# Get the response from the LLM\n",
    "response = get_llm_response(prompt)\n",
    "\n",
    "# Print the LLM response\n",
    "print(response)"
   ]
  },
  {
   "cell_type": "markdown",
   "metadata": {},
   "source": [
    "## Opening a text file and saving it as a string"
   ]
  },
  {
   "cell_type": "markdown",
   "metadata": {},
   "source": [
    "You will load data that has already been created and is stored 📁 for you in files.\n",
    "\n",
    "* Start by loading an email that Daniel sent recently. It is stored in a '.txt' file."
   ]
  },
  {
   "cell_type": "code",
   "execution_count": 4,
   "metadata": {
    "height": 64
   },
   "outputs": [],
   "source": [
    "f = open(\"email.txt\", \"r\")\n",
    "email = f.read()\n",
    "f.close()"
   ]
  },
  {
   "cell_type": "markdown",
   "metadata": {},
   "source": [
    "* Print what it is 'inside' the email ✉️."
   ]
  },
  {
   "cell_type": "code",
   "execution_count": 5,
   "metadata": {
    "height": 30
   },
   "outputs": [
    {
     "name": "stdout",
     "output_type": "stream",
     "text": [
      "Subject: My Incredible Journey Around the World!\n",
      "\n",
      "Hi Andrew,\n",
      "\n",
      "I hope you are doing greatl! I just returned from an incredible trip around the world. I started in New York, enjoying a Broadway show and the skyline. In Rio de Janeiro, I soaked up the sun on Copacabana Beach and hiked to Christ the Redeemer. Cape Town amazed me with its natural beauty and safari adventures. Paris was magical with its charming streets and delicious food. Istanbul's Hagia Sophia and Bosphorus cruise were unforgettable. Tokyo dazzled with its neon lights and delicious sushi. Finally, Sydney's Opera House and Bondi Beach were the perfect end to my journey. Can't wait to share more stories and photos when we catch up!\n",
      "\n",
      "Best,\n",
      "\n",
      "Daniel\n"
     ]
    }
   ],
   "source": [
    "print(email)"
   ]
  },
  {
   "cell_type": "markdown",
   "metadata": {},
   "source": [
    "<p style=\"background-color:#F5C780; padding:15px\"> 🤖 <b>Use the Chatbot</b>:\n",
    "    <br><br>\n",
    "    Explain this code line by line:\n",
    "    <br><br>f = open(\"email.txt\", \"r\")\n",
    "    <br>email = f.read()\n",
    "    <br>f.close()\n",
    "</p>"
   ]
  },
  {
   "cell_type": "markdown",
   "metadata": {},
   "source": [
    "<p style=\"background-color:#F5C780; padding:15px\"> 🤖 <b>Use the Chatbot</b>:\n",
    "    <br><br>\n",
    "    What happens if I don't close a file?\n",
    "</p>"
   ]
  },
  {
   "cell_type": "markdown",
   "metadata": {},
   "source": [
    "## Using LLMs to extract bullet points from the email"
   ]
  },
  {
   "cell_type": "markdown",
   "metadata": {},
   "source": [
    "* Create a prompt to extract bullet points from Daniel's email ✉️."
   ]
  },
  {
   "cell_type": "code",
   "execution_count": 6,
   "metadata": {
    "height": 132
   },
   "outputs": [
    {
     "name": "stdout",
     "output_type": "stream",
     "text": [
      "Extract bullet points from the following email. \n",
      "Include the sender information. \n",
      "\n",
      "Email:\n",
      "Subject: My Incredible Journey Around the World!\n",
      "\n",
      "Hi Andrew,\n",
      "\n",
      "I hope you are doing greatl! I just returned from an incredible trip around the world. I started in New York, enjoying a Broadway show and the skyline. In Rio de Janeiro, I soaked up the sun on Copacabana Beach and hiked to Christ the Redeemer. Cape Town amazed me with its natural beauty and safari adventures. Paris was magical with its charming streets and delicious food. Istanbul's Hagia Sophia and Bosphorus cruise were unforgettable. Tokyo dazzled with its neon lights and delicious sushi. Finally, Sydney's Opera House and Bondi Beach were the perfect end to my journey. Can't wait to share more stories and photos when we catch up!\n",
      "\n",
      "Best,\n",
      "\n",
      "Daniel\n"
     ]
    }
   ],
   "source": [
    "prompt = f\"\"\"Extract bullet points from the following email. \n",
    "Include the sender information. \n",
    "\n",
    "Email:\n",
    "{email}\"\"\"\n",
    "\n",
    "print(prompt)"
   ]
  },
  {
   "cell_type": "markdown",
   "metadata": {},
   "source": [
    "* Run the ```get_llm_response``` function to get the response with bullet points."
   ]
  },
  {
   "cell_type": "code",
   "execution_count": 7,
   "metadata": {
    "height": 47
   },
   "outputs": [
    {
     "name": "stdout",
     "output_type": "stream",
     "text": [
      " - Sender: Daniel\n",
      "- Subject: My Incredible Journey Around the World!\n",
      "- Highlights of Daniel's trip:\n",
      "  - Broadway show in New York City\n",
      "  - Sunbathing on Copacabana Beach and hiking to Christ the Redeemer in Rio de Janeiro\n",
      "  - Admiring natural beauty and going on safari adventures in Cape Town\n",
      "  - Enjoying charming streets, delicious food, and visiting Hagia Sophia and taking a Bosphorus cruise in Istanbul\n",
      "  - Experiencing neon lights and delicious sushi in Tokyo\n",
      "  - Visiting the Opera House and Bondi Beach in Sydney\n"
     ]
    }
   ],
   "source": [
    "bullet_points = get_llm_response(prompt)\n",
    "print(bullet_points)"
   ]
  },
  {
   "cell_type": "markdown",
   "metadata": {},
   "source": [
    "* Print the LLM response in Markdown format."
   ]
  },
  {
   "cell_type": "code",
   "execution_count": 8,
   "metadata": {
    "height": 47
   },
   "outputs": [
    {
     "data": {
      "text/markdown": [
       " - Sender: Daniel\n",
       "- Subject: My Incredible Journey Around the World!\n",
       "- Highlights of Daniel's trip:\n",
       "  - Broadway show in New York City\n",
       "  - Sunbathing on Copacabana Beach and hiking to Christ the Redeemer in Rio de Janeiro\n",
       "  - Admiring natural beauty and going on safari adventures in Cape Town\n",
       "  - Enjoying charming streets, delicious food, and visiting Hagia Sophia and taking a Bosphorus cruise in Istanbul\n",
       "  - Experiencing neon lights and delicious sushi in Tokyo\n",
       "  - Visiting the Opera House and Bondi Beach in Sydney"
      ],
      "text/plain": [
       "<IPython.core.display.Markdown object>"
      ]
     },
     "metadata": {},
     "output_type": "display_data"
    }
   ],
   "source": [
    "# Print in Markdown format\n",
    "display(Markdown(bullet_points))"
   ]
  },
  {
   "cell_type": "markdown",
   "metadata": {},
   "source": [
    "## Extra practice\n",
    "\n",
    "Try the exercises below to get an LLM to carry out different tasks using the email text you read in from file:\n",
    "\n",
    "### Exercise 1\n",
    "\n",
    "Complete the code below to identify all the **countries** mentioned in the email."
   ]
  },
  {
   "cell_type": "code",
   "execution_count": 8,
   "metadata": {
    "height": 183
   },
   "outputs": [
    {
     "name": "stdout",
     "output_type": "stream",
     "text": [
      "1. United States (New York)\n",
      "2. Brazil (Rio de Janeiro)\n",
      "3. South Africa (Cape Town)\n",
      "4. France (Paris)\n",
      "5. Turkey (Istanbul)\n",
      "6. Japan (Tokyo)\n",
      "7. Australia (Sydney)\n"
     ]
    }
   ],
   "source": [
    "# Complete the code below to identify all of the countries mentioned \n",
    "# in the email\n",
    "prompt = f\"\"\"Please identify all of the coutries mentioned in the email.\n",
    "\n",
    "Email:\n",
    "{email}\n",
    "\"\"\"\n",
    "\n",
    "countries = get_llm_response(prompt)\n",
    "print(countries)"
   ]
  },
  {
   "cell_type": "markdown",
   "metadata": {},
   "source": [
    "### Exercise 2\n",
    "\n",
    "Write code below to list all of the activities that Daniel did on his trip. You'll need to create a prompt and use either `get_llm_response` or `print_llm_response`."
   ]
  },
  {
   "cell_type": "code",
   "execution_count": 9,
   "metadata": {
    "height": 200
   },
   "outputs": [
    {
     "name": "stdout",
     "output_type": "stream",
     "text": [
      "1. Enjoyed a Broadway show in New York\n",
      "2. Viewed the skyline in New York\n",
      "3. Soaked up the sun on Copacabana Beach in Rio de Janeiro\n",
      "4. Hiked to Christ the Redeemer in Rio de Janeiro\n",
      "5. Experienced safari adventures in Cape Town\n",
      "6. Explored charming streets and enjoyed delicious food in Paris\n",
      "7. Visited Hagia Sophia in Istanbul\n",
      "8. Took a Bosphorus cruise in Istanbul\n",
      "9. Experienced neon lights and enjoyed sushi in Tokyo\n",
      "10. Visited the Sydney Opera House\n",
      "11. Relaxed at Bondi Beach in Sydney\n"
     ]
    }
   ],
   "source": [
    "# Write code below to list all of the activities that Daniel did on \n",
    "# his trip. You'll need to create a prompt and use either \n",
    "# get_llm_response or print_llm_response\n",
    "# START YOUR CODE HERE\n",
    "prompt = f\"\"\"Please list all of the activities that Daniel did on his trip.\n",
    "\n",
    "Email:\n",
    "{email}\n",
    "\"\"\"\n",
    "activities = get_llm_response(prompt)\n",
    "print(activities)"
   ]
  }
 ],
 "metadata": {
  "colab": {
   "gpuType": "T4",
   "provenance": []
  },
  "kernelspec": {
   "display_name": ".venv",
   "language": "python",
   "name": "python3"
  },
  "language_info": {
   "codemirror_mode": {
    "name": "ipython",
    "version": 3
   },
   "file_extension": ".py",
   "mimetype": "text/x-python",
   "name": "python",
   "nbconvert_exporter": "python",
   "pygments_lexer": "ipython3",
   "version": "3.11.13"
  }
 },
 "nbformat": 4,
 "nbformat_minor": 4
}
